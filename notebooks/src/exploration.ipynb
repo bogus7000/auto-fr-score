{
 "cells": [
  {
   "cell_type": "code",
   "execution_count": null,
   "metadata": {},
   "outputs": [],
   "source": [
    "# Import the libraries\n",
    "import pandas as pd\n",
    "import numpy as np\n",
    "import matplotlib.pyplot as plt\n",
    "import matplotlib.ticker as ticker\n",
    "import seaborn as sns\n",
    "import re\n",
    "from wordcloud import WordCloud, STOPWORDS"
   ]
  },
  {
   "cell_type": "code",
   "execution_count": null,
   "metadata": {},
   "outputs": [],
   "source": [
    "# Load and inspect frequency response data\n",
    "frequency_data = pd.read_json('../../data/headphones-fr-data.json')\n",
    "\n",
    "frequency_data.head()"
   ]
  },
  {
   "cell_type": "code",
   "execution_count": null,
   "metadata": {},
   "outputs": [],
   "source": [
    "# Clean \n",
    "sample_fr_header = frequency_data['header'][0]\n",
    "print(sample_fr_header)\n",
    "\n",
    "frequency_data = frequency_data.drop(columns=['header'])\n",
    "\n",
    "print(frequency_data.isnull().sum())\n",
    "\n",
    "frequency_data.head()"
   ]
  },
  {
   "cell_type": "code",
   "execution_count": null,
   "metadata": {},
   "outputs": [],
   "source": [
    "# Summary statistics \n",
    "frequency_response_list = frequency_data['data'].tolist()\n",
    "\n",
    "flat_list = [item for sublist in frequency_response_list for item in sublist]\n",
    "freq_df = pd.DataFrame(flat_list, columns=sample_fr_header)\n",
    "\n",
    "summary_stats = freq_df.describe()\n",
    "print(summary_stats)"
   ]
  },
  {
   "cell_type": "code",
   "execution_count": null,
   "metadata": {},
   "outputs": [],
   "source": [
    "# Plot frequency response for a given headphone index\n",
    "def plot_frequency_response(headphone_index):\n",
    "    single_headphone_response = frequency_response_list[headphone_index]\n",
    "    single_headphone_df = pd.DataFrame(single_headphone_response, columns=sample_fr_header)\n",
    "    \n",
    "    headphone_name = frequency_data.loc[headphone_index, 'fullname']\n",
    "\n",
    "    plt.figure(figsize=(14, 8))\n",
    "    plt.plot(single_headphone_df['Frequency'], single_headphone_df['Left'], label='Left Channel')\n",
    "    plt.plot(single_headphone_df['Frequency'], single_headphone_df['Right'], label='Right Channel')\n",
    "    plt.plot(single_headphone_df['Frequency'], single_headphone_df['Target Response'], label='Target Response', linestyle='--')\n",
    "    plt.legend()\n",
    "\n",
    "    # Human hearing range is from 20 Hz to 20 kHz\n",
    "    # plt.xscale('log')\n",
    "    # plt.xlim(20, 20000)\n",
    "\n",
    "    # RTINGS.com does their scoring between 20Hz and 9kHz. \n",
    "    plt.xscale('log')\n",
    "    plt.xlim(20, 9000)\n",
    "\n",
    "    # plt.ylim(50, 100)\n",
    "\n",
    "    # Set the amplitude range from 55 dB to 115 dB\n",
    "    plt.ylim(50, 115)\n",
    "\n",
    "    # Customize x-axis labels\n",
    "    ax = plt.gca()\n",
    "    ax.xaxis.set_major_formatter(ticker.FuncFormatter(lambda x, _: f'{int(x)}'))\n",
    "\n",
    "    # Customize x-axis ticks for human hearing range\n",
    "    # ax.set_xticks([20, 50, 100, 200, 500, 1000, 2000, 5000, 10000, 20000])\n",
    "\n",
    "    # Customize x-axis ticks for RTINGS.com scoring range \n",
    "    ax.set_xticks([20, 100, 2000, 5000, 10000])\n",
    "    \n",
    "    plt.title(f'Frequency Response for {headphone_name}')\n",
    "    plt.xlabel('Frequency (Hz)')\n",
    "    plt.ylabel('Amplitude (dB)')\n",
    "    plt.grid(True, which='both', linestyle='--', linewidth=0.5)\n",
    "    plt.show()\n",
    "\n",
    "plot_frequency_response(9)\n"
   ]
  },
  {
   "cell_type": "code",
   "execution_count": null,
   "metadata": {},
   "outputs": [],
   "source": [
    "# Plot average frequency responses with standard deviation\n",
    "mean_responses = freq_df.groupby('Frequency').mean().reset_index()\n",
    "std_responses = freq_df.groupby('Frequency').std().reset_index()\n",
    "\n",
    "plt.figure(figsize=(14, 8))\n",
    "plt.plot(mean_responses['Frequency'], mean_responses['Left'], label='Left Channel Mean')\n",
    "plt.plot(mean_responses['Frequency'], mean_responses['Right'], label='Right Channel Mean')\n",
    "plt.plot(mean_responses['Frequency'], mean_responses['Target Response'], label='Target Response', linestyle='--')\n",
    "\n",
    "plt.fill_between(mean_responses['Frequency'], mean_responses['Left'] - std_responses['Left'], mean_responses['Left'] + std_responses['Left'], alpha=0.3)\n",
    "plt.fill_between(mean_responses['Frequency'], mean_responses['Right'] - std_responses['Right'], mean_responses['Right'] + std_responses['Right'], alpha=0.3)\n",
    "\n",
    "plt.legend()\n",
    "plt.xscale('log')\n",
    "plt.xlim(20, 9000)\n",
    "plt.ylim(50, 115)\n",
    "ax = plt.gca()\n",
    "ax.xaxis.set_major_formatter(ticker.FuncFormatter(lambda x, _: f'{int(x)}'))\n",
    "ax.set_xticks([20, 100, 2000, 5000, 10000])\n",
    "plt.title('Average Frequency Response with Standard Deviation')\n",
    "plt.xlabel('Frequency (Hz)')\n",
    "plt.ylabel('Amplitude (dB)')\n",
    "plt.show()\n"
   ]
  },
  {
   "cell_type": "code",
   "execution_count": null,
   "metadata": {},
   "outputs": [],
   "source": [
    "# Plot frequency responses for a sample of headphones\n",
    "selected_headphones = [3, 9]\n",
    "plt.figure(figsize=(14, 8))\n",
    "\n",
    "single_headphone_response = frequency_response_list[0]\n",
    "single_headphone_df = pd.DataFrame(single_headphone_response, columns=sample_fr_header)\n",
    "\n",
    "for i in selected_headphones:\n",
    "    headphone_response = frequency_response_list[i]\n",
    "    headphone_df = pd.DataFrame(headphone_response, columns=sample_fr_header)\n",
    "    plt.plot(headphone_df['Frequency'], headphone_df['Left'], label=f'{frequency_data[\"fullname\"][i]} - Left Channel')\n",
    "    plt.plot(headphone_df['Frequency'], headphone_df['Right'], label=f'{frequency_data[\"fullname\"][i]} - Right Channel')\n",
    "\n",
    "plt.plot(single_headphone_df['Frequency'], single_headphone_df['Target Response'], label='Target Response', linestyle='--')\n",
    "plt.legend()\n",
    "plt.xscale('log')\n",
    "plt.xlim(20, 9000)\n",
    "plt.ylim(50, 115)\n",
    "ax = plt.gca()\n",
    "ax.xaxis.set_major_formatter(ticker.FuncFormatter(lambda x, _: f'{int(x)}'))\n",
    "ax.set_xticks([20, 100, 2000, 5000, 10000])\n",
    "plt.title('Frequency Responses for a sample of Headphones')\n",
    "plt.xlabel('Frequency (Hz)')\n",
    "plt.ylabel('Amplitude (dB)')\n",
    "plt.show()\n"
   ]
  },
  {
   "cell_type": "code",
   "execution_count": null,
   "metadata": {},
   "outputs": [],
   "source": [
    "# Load and inspect scores data\n",
    "scores_data = pd.read_json('../../data/headphones-data.json')\n",
    "\n",
    "scores_data.head()"
   ]
  },
  {
   "cell_type": "code",
   "execution_count": null,
   "metadata": {},
   "outputs": [],
   "source": [
    "# Inspect missing values \n",
    "print(scores_data.isnull().sum())\n",
    "\n",
    "scores_data.head()"
   ]
  },
  {
   "cell_type": "code",
   "execution_count": null,
   "metadata": {},
   "outputs": [],
   "source": [
    "# Clean\n",
    "scores_data.replace(r'^\\s*$', np.nan, regex=True, inplace=True)\n",
    "scores_data = scores_data.dropna()\n",
    "print(scores_data.isnull().sum())\n",
    "scores_data.head()"
   ]
  },
  {
   "cell_type": "code",
   "execution_count": null,
   "metadata": {},
   "outputs": [],
   "source": [
    "# Summary statistics for scores \n",
    "score_columns = ['neutralSoundScore', 'bassAccuracyScore', 'midAccuracyScore', 'trebleAccuracyScore']\n",
    "basic_stats = scores_data[score_columns].describe()\n",
    "print(basic_stats)\n"
   ]
  },
  {
   "cell_type": "code",
   "execution_count": null,
   "metadata": {},
   "outputs": [],
   "source": [
    "# Histograms for score distributions\n",
    "plt.figure(figsize=(12, 8))\n",
    "for i, column in enumerate(score_columns):\n",
    "    plt.subplot(2, 2, i+1)\n",
    "    sns.histplot(scores_data[column], kde=True, bins=20)\n",
    "    plt.title(f'Distribution of {column}')\n",
    "plt.tight_layout()\n",
    "plt.show()"
   ]
  },
  {
   "cell_type": "code",
   "execution_count": null,
   "metadata": {},
   "outputs": [],
   "source": [
    "# Word cloud of descriptions\n",
    "descriptions = ' '.join(scores_data['bassAccuracyDescription'].fillna('') + ' ' +\n",
    "                        scores_data['midAccuracyDescription'].fillna('') + ' ' +\n",
    "                        scores_data['trebleAccuracyDescription'].fillna(''))\n",
    "\n",
    "words = re.findall(r'\\b\\w+\\b', descriptions.lower())\n",
    "\n",
    "stopwords = set(STOPWORDS)\n",
    "filtered_words = [word for word in words if word not in stopwords]\n",
    "filtered_words = [word for word in filtered_words if len(word) > 2]\n",
    "wordcloud = WordCloud(width=800, height=400, background_color='white', stopwords=stopwords).generate(' '.join(filtered_words))\n",
    "\n",
    "plt.figure(figsize=(10, 8))\n",
    "plt.imshow(wordcloud, interpolation='bilinear')\n",
    "plt.axis('off')\n",
    "plt.title('Word Cloud of Descriptions')\n",
    "plt.show()"
   ]
  },
  {
   "cell_type": "markdown",
   "metadata": {},
   "source": []
  }
 ],
 "metadata": {
  "kernelspec": {
   "display_name": "auto-fr-venv",
   "language": "python",
   "name": "python3"
  },
  "language_info": {
   "codemirror_mode": {
    "name": "ipython",
    "version": 3
   },
   "file_extension": ".py",
   "mimetype": "text/x-python",
   "name": "python",
   "nbconvert_exporter": "python",
   "pygments_lexer": "ipython3",
   "version": "3.12.3"
  }
 },
 "nbformat": 4,
 "nbformat_minor": 2
}
