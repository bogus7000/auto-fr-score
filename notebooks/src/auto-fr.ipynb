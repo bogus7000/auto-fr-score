{
 "cells": [
  {
   "cell_type": "code",
   "execution_count": null,
   "metadata": {},
   "outputs": [],
   "source": [
    "# Import libraries\n",
    "import pandas as pd\n",
    "import numpy as np\n",
    "\n",
    "# Load and prep data\n",
    "# Frequency response data\n",
    "frequency_data = pd.read_json('../../data/headphones-fr-data.json')\n",
    "sample_fr_header = frequency_data['header'][0]\n",
    "print(sample_fr_header)\n",
    "frequency_data = frequency_data.drop(columns=['header'])\n",
    "\n",
    "# Filter frequency response data to only include frequencies between 20Hz and 9000Hz\n",
    "def filter_frequency_data(data):\n",
    "    return [point for point in data if 20 <= point[0] <= 9000]\n",
    "\n",
    "frequency_data['data'] = frequency_data['data'].apply(filter_frequency_data)\n",
    "frequency_data = frequency_data.sample(frac=1).reset_index(drop=True)\n",
    "frequency_data.head()"
   ]
  },
  {
   "cell_type": "code",
   "execution_count": null,
   "metadata": {},
   "outputs": [],
   "source": [
    "# Scores data\n",
    "scores_data = pd.read_json('../../data/headphones-data.json')\n",
    "scores_data.replace(r'^\\s*$', np.nan, regex=True, inplace=True)\n",
    "scores_data = scores_data.dropna()\n",
    "scores_data = scores_data.sample(frac=1).reset_index(drop=True)\n",
    "scores_data.head()"
   ]
  },
  {
   "cell_type": "code",
   "execution_count": null,
   "metadata": {},
   "outputs": [],
   "source": [
    "# Merge \n",
    "merged_data = pd.merge(frequency_data, scores_data, on='id')\n",
    "merged_data = merged_data.drop(columns=['fullname_x', 'bassAccuracyDescription', 'midAccuracyDescription', 'trebleAccuracyDescription'])\n",
    "merged_data = merged_data.rename(columns={'fullname_y': 'fullname'})\n",
    "merged_data.head()"
   ]
  },
  {
   "cell_type": "code",
   "execution_count": null,
   "metadata": {},
   "outputs": [],
   "source": [
    "# Shared functions \n",
    "def preprocess_frequency_response(data):\n",
    "    max_length = max(len(np.array(item).flatten()) for item in data)\n",
    "    frequency_responses = np.array([np.pad(np.array(item).flatten(), (0, max_length - len(np.array(item).flatten())), 'constant') for item in data])\n",
    "    return frequency_responses\n",
    "\n",
    "def get_prediction_by_id(test_ids, predictions, actual_scores, headphone_id):\n",
    "    idx = np.where(test_ids == headphone_id)[0]\n",
    "    if len(idx) == 0:\n",
    "        return None, None\n",
    "    idx = idx[0]\n",
    "    return predictions[idx], actual_scores[idx]\n",
    "\n",
    "def print_scores(predicted_scores, actual_scores, headphone_id):\n",
    "    if predicted_scores is not None:\n",
    "        print(f\"Predicted scores for headphone ID {headphone_id}: {predicted_scores}\")\n",
    "        print(f\"Actual scores for headphone ID {headphone_id}: {actual_scores}\")\n",
    "    else:\n",
    "        print(f\"Headphone ID {headphone_id} not found in the test set.\")"
   ]
  },
  {
   "cell_type": "code",
   "execution_count": null,
   "metadata": {},
   "outputs": [],
   "source": [
    "# Shared variables\n",
    "shared_X = preprocess_frequency_response(merged_data['data'])\n",
    "shared_y = merged_data[['neutralSoundScore', 'bassAccuracyScore', 'midAccuracyScore', 'trebleAccuracyScore']].values\n",
    "shared_ids = merged_data['id'].values"
   ]
  },
  {
   "cell_type": "code",
   "execution_count": null,
   "metadata": {},
   "outputs": [],
   "source": [
    "# Baseline model  with Random Forest Regressor\n",
    "from statistics import LinearRegression\n",
    "from sklearn.model_selection import train_test_split\n",
    "from sklearn.ensemble import RandomForestRegressor\n",
    "from sklearn.metrics import mean_squared_error, r2_score\n",
    "\n",
    "X = shared_X \n",
    "y = shared_y \n",
    "\n",
    "X_train, X_test, y_train, y_test, id_train, id_test = train_test_split(X, y, shared_ids, test_size=0.2, random_state=42)\n",
    "\n",
    "model = RandomForestRegressor(n_estimators=100, random_state=42)\n",
    "\n",
    "model.fit(X_train, y_train)\n",
    "\n",
    "y_pred = model.predict(X_test)\n",
    "mse = mean_squared_error(y_test, y_pred)\n",
    "r2 = r2_score(y_test, y_pred)\n",
    "\n",
    "print(f'Mean Squared Error: {mse}')\n",
    "print(f'R^2 Score: {r2}')\n",
    "print(id_test)"
   ]
  },
  {
   "cell_type": "code",
   "execution_count": null,
   "metadata": {},
   "outputs": [],
   "source": [
    "headphone_id = 762\n",
    "predicted_scores, actual_scores = get_prediction_by_id(id_test, y_pred, y_test, headphone_id)\n",
    "print_scores(predicted_scores, actual_scores, headphone_id)"
   ]
  },
  {
   "cell_type": "code",
   "execution_count": null,
   "metadata": {},
   "outputs": [],
   "source": [
    "# Next model with Scaler, Gradient Boosting Regressor wrapped in MultiOutputRegressor, and hyperparameter tuning with GridSearchCV\n",
    "from sklearn.discriminant_analysis import StandardScaler\n",
    "from sklearn.model_selection import GridSearchCV, train_test_split\n",
    "from sklearn.ensemble import GradientBoostingRegressor \n",
    "from sklearn.metrics import mean_squared_error, r2_score\n",
    "from sklearn.multioutput import MultiOutputRegressor\n",
    "\n",
    "X = shared_X \n",
    "y = shared_y \n",
    "\n",
    "scaler = StandardScaler()\n",
    "X_scaled = scaler.fit_transform(X)\n",
    "\n",
    "X_train, X_test, y_train, y_test, id_train, id_test = train_test_split(X, y, shared_ids, test_size=0.2, random_state=42)\n",
    "\n",
    "model = GradientBoostingRegressor(random_state=42)\n",
    "multi_target_model = MultiOutputRegressor(model)\n",
    "\n",
    "param_grid = {\n",
    "    'estimator__n_estimators': [100, 200],\n",
    "    'estimator__learning_rate': [0.01, 0.1],\n",
    "    'estimator__max_depth': [3, 5],\n",
    "    'estimator__subsample': [0.8, 1.0]\n",
    "}\n",
    "grid_search = GridSearchCV(estimator=multi_target_model, param_grid=param_grid, cv=5, n_jobs=-1, scoring='r2')\n",
    "grid_search.fit(X_train, y_train)\n",
    "\n",
    "best_model = grid_search.best_estimator_\n",
    "y_pred = best_model.predict(X_test)\n",
    "mse = mean_squared_error(y_test, y_pred)\n",
    "r2 = r2_score(y_test, y_pred)\n",
    "\n",
    "print(f'Mean Squared Error: {mse}')\n",
    "print(f'R^2 Score: {r2}')\n",
    "print(id_test)"
   ]
  },
  {
   "cell_type": "code",
   "execution_count": null,
   "metadata": {},
   "outputs": [],
   "source": [
    "headphone_id = 751\n",
    "predicted_scores, actual_scores = get_prediction_by_id(id_test, y_pred, y_test, headphone_id)\n",
    "print_scores(predicted_scores, actual_scores, headphone_id)"
   ]
  }
 ],
 "metadata": {
  "kernelspec": {
   "display_name": "auto-fr-venv",
   "language": "python",
   "name": "python3"
  },
  "language_info": {
   "codemirror_mode": {
    "name": "ipython",
    "version": 3
   },
   "file_extension": ".py",
   "mimetype": "text/x-python",
   "name": "python",
   "nbconvert_exporter": "python",
   "pygments_lexer": "ipython3",
   "version": "3.12.3"
  }
 },
 "nbformat": 4,
 "nbformat_minor": 2
}
